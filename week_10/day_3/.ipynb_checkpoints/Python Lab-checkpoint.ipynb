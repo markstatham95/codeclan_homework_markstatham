{
 "cells": [
  {
   "cell_type": "markdown",
   "metadata": {},
   "source": [
    "**Question 1** \n",
    "\n",
    "Given a list of the years in which people were born, write a list comprehension to determine their age based on the current year. Ignore dates and months when calculating this."
   ]
  },
  {
   "cell_type": "code",
   "execution_count": 1,
   "metadata": {},
   "outputs": [],
   "source": [
    "years_of_birth = [1990, 1991, 1990, 1990, 1992, 1991, 1976, 1984, 1940]"
   ]
  },
  {
   "cell_type": "code",
   "execution_count": 2,
   "metadata": {},
   "outputs": [],
   "source": [
    "ages = [2020 - year for year in years_of_birth]"
   ]
  },
  {
   "cell_type": "code",
   "execution_count": 3,
   "metadata": {},
   "outputs": [
    {
     "data": {
      "text/plain": [
       "[30, 29, 30, 30, 28, 29, 44, 36, 80]"
      ]
     },
     "execution_count": 3,
     "metadata": {},
     "output_type": "execute_result"
    }
   ],
   "source": [
    "ages"
   ]
  },
  {
   "cell_type": "markdown",
   "metadata": {},
   "source": [
    "**Question 2**\n",
    "\n",
    "\n",
    "Write a function is_palindrome(input_string) to determine whether an input string is a palindrome (i.e. reads the same backwards as forwards, e.g. ‘madam’). The function should return True if the string is a palindrome and False otherwise. As an extension, amend your code so that it strips out spaces from the string."
   ]
  },
  {
   "cell_type": "code",
   "execution_count": 22,
   "metadata": {},
   "outputs": [],
   "source": [
    "def is_palindrome(input_string):\n",
    "\n",
    "    \n",
    "    if input_string.lower() == input_string.lower()[::-1]:\n",
    "        print(True)\n",
    "    else:\n",
    "        print(False)\n",
    "        \n",
    "    \n"
   ]
  },
  {
   "cell_type": "code",
   "execution_count": 24,
   "metadata": {},
   "outputs": [
    {
     "name": "stdout",
     "output_type": "stream",
     "text": [
      "True\n"
     ]
    }
   ],
   "source": [
    "is_palindrome(\"Hannah\")"
   ]
  },
  {
   "cell_type": "code",
   "execution_count": 25,
   "metadata": {},
   "outputs": [
    {
     "name": "stdout",
     "output_type": "stream",
     "text": [
      "True\n"
     ]
    }
   ],
   "source": [
    "is_palindrome(\"boob boob\")"
   ]
  },
  {
   "cell_type": "markdown",
   "metadata": {},
   "source": [
    "**Question 3** \n"
   ]
  },
  {
   "cell_type": "markdown",
   "metadata": {},
   "source": [
    "If we list all the natural numbers below 10 that are multiples of 3 or 5, we get 3, 5, 6 and 9. The sum of these multiples is 23.\n",
    "\n",
    "Find the sum of all the multiples of 3 or 5 below 1000."
   ]
  },
  {
   "cell_type": "code",
   "execution_count": 45,
   "metadata": {},
   "outputs": [],
   "source": [
    "sum_multiples_of_3_or_5 = sum([number for number in range(1000) if number % 3 == 0 or number % 5 == 0])"
   ]
  },
  {
   "cell_type": "code",
   "execution_count": 46,
   "metadata": {},
   "outputs": [
    {
     "data": {
      "text/plain": [
       "233168"
      ]
     },
     "execution_count": 46,
     "metadata": {},
     "output_type": "execute_result"
    }
   ],
   "source": [
    "sum_multiples_of_3_or_5\n"
   ]
  },
  {
   "cell_type": "markdown",
   "metadata": {},
   "source": [
    "**Question 4**\n"
   ]
  },
  {
   "cell_type": "markdown",
   "metadata": {},
   "source": [
    "Write a function remove_duplicates(input_list) that takes in an input list of words and removes any duplicates it finds, returning the list without duplicates. For example with input: \n",
    "\n"
   ]
  },
  {
   "cell_type": "code",
   "execution_count": 42,
   "metadata": {},
   "outputs": [],
   "source": [
    "input_list = [\"I\", \"am\", \"counting\", \"my\", \"calories\", \"yet\", \"I\", \"really\", \"want\", \"dessert\", \"I\", \"am\", \"still\", \"hungry\"]"
   ]
  },
  {
   "cell_type": "code",
   "execution_count": 43,
   "metadata": {},
   "outputs": [
    {
     "data": {
      "text/plain": [
       "['I',\n",
       " 'am',\n",
       " 'counting',\n",
       " 'my',\n",
       " 'calories',\n",
       " 'yet',\n",
       " 'I',\n",
       " 'really',\n",
       " 'want',\n",
       " 'dessert',\n",
       " 'I',\n",
       " 'am',\n",
       " 'still',\n",
       " 'hungry']"
      ]
     },
     "execution_count": 43,
     "metadata": {},
     "output_type": "execute_result"
    }
   ],
   "source": [
    "input_list"
   ]
  },
  {
   "cell_type": "code",
   "execution_count": 44,
   "metadata": {},
   "outputs": [
    {
     "data": {
      "text/plain": [
       "['I',\n",
       " 'am',\n",
       " 'counting',\n",
       " 'my',\n",
       " 'calories',\n",
       " 'yet',\n",
       " 'really',\n",
       " 'want',\n",
       " 'dessert',\n",
       " 'still',\n",
       " 'hungry']"
      ]
     },
     "execution_count": 44,
     "metadata": {},
     "output_type": "execute_result"
    }
   ],
   "source": [
    "def remove_duplicates(input_list):\n",
    "    return list(dict.fromkeys(input_list))\n",
    "\n",
    "remove_duplicates(input_list)\n",
    "    "
   ]
  },
  {
   "cell_type": "markdown",
   "metadata": {},
   "source": [
    "**Question 5**"
   ]
  },
  {
   "cell_type": "markdown",
   "metadata": {},
   "source": [
    "Write a function list_overlap(list_1, list_2) that returns the overlap between two input lists list_1 and list_2 of numbers (i.e. the elements present in both lists). The input lists need not be the same size. For example, for the following inputs:"
   ]
  },
  {
   "cell_type": "code",
   "execution_count": 49,
   "metadata": {},
   "outputs": [
    {
     "data": {
      "text/plain": [
       "[6, 6, 10]"
      ]
     },
     "execution_count": 49,
     "metadata": {},
     "output_type": "execute_result"
    }
   ],
   "source": [
    "list_1 = [1, 4, 5, 6, 6, 5, 10, 11, 12]\n",
    "list_2 = [3, 2, 6, 10]\n",
    "\n",
    "def list_overlap(list_1, list_2):\n",
    "    list_3 = [value for value in list_1 if value in list_2]\n",
    "    return list_3\n",
    "\n",
    "list_overlap(list_1, list_2)"
   ]
  },
  {
   "cell_type": "code",
   "execution_count": 50,
   "metadata": {},
   "outputs": [
    {
     "data": {
      "text/plain": [
       "{6, 10}"
      ]
     },
     "execution_count": 50,
     "metadata": {},
     "output_type": "execute_result"
    }
   ],
   "source": [
    "list_1 = [1, 4, 5, 6, 6, 5, 10, 11, 12]\n",
    "list_2 = [3, 2, 6, 10]\n",
    "\n",
    "def list_overlap(list_1, list_2):\n",
    "    return set(list_1).intersection(list_2)\n",
    "\n",
    "list_overlap(list_1, list_2)"
   ]
  },
  {
   "cell_type": "markdown",
   "metadata": {},
   "source": [
    "**Question 6**\n"
   ]
  },
  {
   "cell_type": "markdown",
   "metadata": {},
   "source": [
    "Each new term in a Fibonacci sequence is generated by adding the previous two terms. So starting with 1 and 2, the first 10 terms will be:\n",
    "\n",
    "1, 2, 3, 5, 8, 13, 21, 34, 55, 89, …\n",
    "\n",
    "By considering the terms in this Fibonacci sequence whose values do not exceed four million, find the sum of the even-valued terms."
   ]
  },
  {
   "cell_type": "code",
   "execution_count": 1,
   "metadata": {},
   "outputs": [],
   "source": [
    "fibs = [1,2]\n",
    "i = 1\n",
    "\n",
    "while fibs[i] < 4000000: \n",
    "    fibs.append(fibs[i] + fibs[i - 1])\n",
    "    i += 1\n",
    "\n",
    "\n",
    " \n",
    "\n",
    "   "
   ]
  },
  {
   "cell_type": "code",
   "execution_count": 2,
   "metadata": {},
   "outputs": [
    {
     "data": {
      "text/plain": [
       "[1,\n",
       " 2,\n",
       " 3,\n",
       " 5,\n",
       " 8,\n",
       " 13,\n",
       " 21,\n",
       " 34,\n",
       " 55,\n",
       " 89,\n",
       " 144,\n",
       " 233,\n",
       " 377,\n",
       " 610,\n",
       " 987,\n",
       " 1597,\n",
       " 2584,\n",
       " 4181,\n",
       " 6765,\n",
       " 10946,\n",
       " 17711,\n",
       " 28657,\n",
       " 46368,\n",
       " 75025,\n",
       " 121393,\n",
       " 196418,\n",
       " 317811,\n",
       " 514229,\n",
       " 832040,\n",
       " 1346269,\n",
       " 2178309,\n",
       " 3524578,\n",
       " 5702887]"
      ]
     },
     "execution_count": 2,
     "metadata": {},
     "output_type": "execute_result"
    }
   ],
   "source": [
    "fibs"
   ]
  },
  {
   "cell_type": "code",
   "execution_count": 4,
   "metadata": {},
   "outputs": [],
   "source": [
    "evens = sum([number for number in fibs if number % 2 == 0])\n"
   ]
  },
  {
   "cell_type": "code",
   "execution_count": 5,
   "metadata": {},
   "outputs": [
    {
     "data": {
      "text/plain": [
       "4613732"
      ]
     },
     "execution_count": 5,
     "metadata": {},
     "output_type": "execute_result"
    }
   ],
   "source": [
    "evens"
   ]
  },
  {
   "cell_type": "markdown",
   "metadata": {},
   "source": [
    "**Question 7**"
   ]
  },
  {
   "cell_type": "markdown",
   "metadata": {},
   "source": [
    "Write a function that accepts a list of strings and returns a dictionary where the keys are the words from the list and the values are the number of times that word appears in the list."
   ]
  },
  {
   "cell_type": "code",
   "execution_count": 10,
   "metadata": {},
   "outputs": [
    {
     "name": "stdout",
     "output_type": "stream",
     "text": [
      "String\n",
      "it was the best of times it was the worst of times it was the age of wisdom it was the age of foolishness\n",
      "\n",
      "List\n",
      "['it', 'was', 'the', 'best', 'of', 'times', 'it', 'was', 'the', 'worst', 'of', 'times', 'it', 'was', 'the', 'age', 'of', 'wisdom', 'it', 'was', 'the', 'age', 'of', 'foolishness']\n",
      "\n",
      "Frequencies\n",
      "[4, 4, 4, 1, 4, 2, 4, 4, 4, 1, 4, 2, 4, 4, 4, 2, 4, 1, 4, 4, 4, 2, 4, 1]\n",
      "\n",
      "Pairs\n",
      "[('it', 4), ('was', 4), ('the', 4), ('best', 1), ('of', 4), ('times', 2), ('it', 4), ('was', 4), ('the', 4), ('worst', 1), ('of', 4), ('times', 2), ('it', 4), ('was', 4), ('the', 4), ('age', 2), ('of', 4), ('wisdom', 1), ('it', 4), ('was', 4), ('the', 4), ('age', 2), ('of', 4), ('foolishness', 1)]\n"
     ]
    }
   ],
   "source": [
    "# count-list-items-1.py\n",
    "\n",
    "wordstring = 'it was the best of times it was the worst of times '\n",
    "wordstring += 'it was the age of wisdom it was the age of foolishness'\n",
    "\n",
    "wordlist = wordstring.split()\n",
    "\n",
    "wordfreq = []\n",
    "for w in wordlist:\n",
    "    wordfreq.append(wordlist.count(w))\n",
    "\n",
    "print(\"String\\n\" + wordstring +\"\\n\")\n",
    "print(\"List\\n\" + str(wordlist) + \"\\n\")\n",
    "print(\"Frequencies\\n\" + str(wordfreq) + \"\\n\")\n",
    "print(\"Pairs\\n\" + str(list(zip(wordlist, wordfreq))))"
   ]
  },
  {
   "cell_type": "code",
   "execution_count": 16,
   "metadata": {},
   "outputs": [
    {
     "data": {
      "text/plain": [
       "['a', 'ab', 'bub', 'boy', 'zebra']"
      ]
     },
     "execution_count": 16,
     "metadata": {},
     "output_type": "execute_result"
    }
   ],
   "source": [
    "stringies = [\"a\", \"ab\", \"bub\", \"boy\", \"zebra\"]\n",
    "\n",
    "stringies"
   ]
  },
  {
   "cell_type": "code",
   "execution_count": 18,
   "metadata": {},
   "outputs": [],
   "source": [
    "def string_to_dict(wordlist):\n",
    "    \n",
    "    wordfreq = [wordlist.count(p) for p in wordlist]\n",
    "    \n",
    "    return dict(list(zip(wordlist,wordfreq)))\n",
    " \n",
    "    "
   ]
  },
  {
   "cell_type": "code",
   "execution_count": 19,
   "metadata": {},
   "outputs": [
    {
     "data": {
      "text/plain": [
       "{'a': 1, 'ab': 1, 'bub': 1, 'boy': 1, 'zebra': 1}"
      ]
     },
     "execution_count": 19,
     "metadata": {},
     "output_type": "execute_result"
    }
   ],
   "source": [
    "string_to_dict(stringies)"
   ]
  },
  {
   "cell_type": "markdown",
   "metadata": {},
   "source": [
    "**Question 8**\n"
   ]
  },
  {
   "cell_type": "markdown",
   "metadata": {},
   "source": [
    "You are repeatedly sent a message, but there are errors in the message each time it is sent. Write code to determine which character occurs most frequently at each position. For example, suppose you had recorded the following messages:\n",
    "\n",
    "eedadn drvtee eandsr raavrd atevrs tsrnev sdttsa rasrtv nssdts ntnada svetve tesnvt vntsnd vrdear dvrsen enarar\n",
    "\n",
    "The most common character in the first column is ‘e’; in the second, ‘a’; in the third, ‘s’; and so on. Combining these characters returns the error-corrected message ‘easter’.\n",
    "\n",
    "Open the file puzzle3input.txt and find the error corrected message.\n",
    "\n",
    "From Advent of Code (2016, day 6)"
   ]
  },
  {
   "cell_type": "code",
   "execution_count": null,
   "metadata": {},
   "outputs": [],
   "source": []
  }
 ],
 "metadata": {
  "kernelspec": {
   "display_name": "Python 3",
   "language": "python",
   "name": "python3"
  },
  "language_info": {
   "codemirror_mode": {
    "name": "ipython",
    "version": 3
   },
   "file_extension": ".py",
   "mimetype": "text/x-python",
   "name": "python",
   "nbconvert_exporter": "python",
   "pygments_lexer": "ipython3",
   "version": "3.7.3"
  }
 },
 "nbformat": 4,
 "nbformat_minor": 2
}
